{
 "cells": [
  {
   "cell_type": "markdown",
   "metadata": {},
   "source": [
    "# [The ETL Character Database](http://etlcdb.db.aist.go.jp)\n",
    "\n",
    "- `ETL Character database` is a collection of images of about 1.2 million hand-written and machine-printed numerals, symbols, Latin alphabets and Japanese characters and compiled in 9 datasets (ETL-1 to ETL-9)."
   ]
  },
  {
   "cell_type": "markdown",
   "metadata": {},
   "source": [
    "## ETL-1\n",
    "\n",
    "- Format of a record:\n",
    "\n",
    "index | byte range | # of bytes | type | contents\n",
    "----- | ---------- | ---------- | ---- | --------\n",
    "0 | 1-2 | 2 | integer | data index (>= 1)\n",
    "1 | 3-4 | 2 | ascii | character name (e.g. `0`, `A`, `$`, `KA`)\n",
    "2 | 5-6 | 2 | integer | sheet index (>= 1)\n",
    "3 | 7 | 1 | binary | character code ([JIS X 0201](https://en.wikipedia.org/wiki/JIS_X_0201))\n",
    "4 | 8 | 1 | binary | character code ([EBCDIC](https://en.wikipedia.org/wiki/EBCDIC))\n",
    "5 | 9 | 1 | integer | quality of character image (0: clean, 1, 2, 3)\n",
    "6 | 10 | 1 | integer | quality of character group (0: clean, 1, 2)\n",
    "7 | 11 | 1 | integer | gender of writer (1: male, 2: female) (JIS X 0303)\n",
    "8 | 12 | 1 | integer | age of writer\n",
    "9 | 13-16 | 4 | integer | serial data index (>= 1)\n",
    "10 | 17-18 | 2 | integer | industry classification code (JIS X 0403)\n",
    "11 | 19-20 | 2 | integer | occupation classification code (JIS X 0404)\n",
    "12 | 21-20 | 2 | integer | data of sheet gathering (19)YYMM\n",
    "13 | 23-24 | 2 | integer | date of scan (19)YYMM\n",
    "14 | 25 | 1 | integer | y coordinate of scan position on sheet (>= 1)\n",
    "15 | 26 | 1 | integer | x coordinate of scan position on sheet (>= 1)\n",
    "16 | 27 | 1 | integer | minimum intensity level (0-255)\n",
    "17 | 28 | 1 | integer | maximum scanned level (0-255)\n",
    "18 | 29-30 | 2 | integer | (undefined)\n",
    "19 | 31-32 | 2 | integer | (undefined)\n",
    "20 | 33-2048 | 2016 | packed | 16 gray level (4bit/pixel) image data. 64x63 (x-axis, y-axis) = 4032 pixel\n",
    "21 | 2049-2052 | 4 | integer | (uncertain)\n",
    "\n",
    "- Contents of files:\n",
    "\n",
    "filename | categories | # catagories | sheets | # sheets | # records | note\n",
    "-------- | ---------- | ------------ | ------ | -------- | --------- | ----\n",
    "ETL1C-01 | 01234567 | 8 | 1001-2960 | 1445 | 11560 |\n",
    "ETL1C-02 | 89ABCDEF | 8 | 1001-2960 | 1445 | 11560 |\n",
    "ETL1C-03 | GHIJKLMN | 8 | 1001-2960 | 1445 | 11560 |\n",
    "ETL1C-04 | OPQRSTUV | 8 | 1001-2960 | 1445 | 11560 |\n",
    "ETL1C-05 | WXYZ¥+-* | 8 | 1001-2960 | 1445 | 11560 |\n",
    "ETL1C-06 | /=()・,␣’ | 8 | 1001-2960 | 1445 | 11560 |\n",
    "ETL1C-07 | アイウエオカキク | 8 | 1001-2960 | 1411 | 11288 |\n",
    "ETL1C-08 | ケコサシスセソタ | 8 | 1001-2960 | 1411 | 11288 |\n",
    "ETL1C-09 | チツテトナニヌネ | 8 | 1001-2960 | 1411 | 11287 | ナ on sheet 2672 is missing\n",
    "ETL1C-10 | ノハヒフヘホマミ | 8 | 1001-2960 | 1411 | 11288 |\n",
    "ETL1C-11 | ムメモヤイユエヨ | 8 | 1001-2960 | 1411 | 11288 |\n",
    "ETL1C-12 | ラリルレロワヰウ | 8 | 1001-2960 | 1411 | 11287 | リ on sheet 2708 is missing\n",
    "ETL1C-13 | ヱヲン | 3 | 1001-2960 | 1411 | 4233 |\n"
   ]
  },
  {
   "cell_type": "markdown",
   "metadata": {},
   "source": [
    "- Sample code for extracting a record from a file"
   ]
  },
  {
   "cell_type": "code",
   "execution_count": 1,
   "metadata": {},
   "outputs": [],
   "source": [
    "import os\n",
    "import re\n",
    "import struct\n",
    "\n",
    "import numpy as np\n",
    "import cv2\n",
    "import matplotlib.pyplot as plt\n",
    "\n",
    "#! pip install pillow\n",
    "\n",
    "from PIL import Image, ImageEnhance # from pillow package"
   ]
  },
  {
   "cell_type": "markdown",
   "metadata": {},
   "source": [
    "### `unpack` string `>H2sH6BI4H4B4x2016s4x`\n",
    "\n",
    "- `>` : use standard size (not platform depend)\n",
    "\n",
    "format | C type | python type | tuple index | content\n",
    "------ | ------ | ----------- | ----------- | -------\n",
    "`H` | unsigned short | integer | 0 | character index\n",
    "`2s` | char[2] | bytes | 1 | character name (e.g. `0`, `A`, `$`, `KA`)\n",
    "`H` | unsign short | integer | 2 | sheet index\n",
    "`6B`  | unsigned char[6] | integer[6] | 3-8 | refer to 3-6 from the `record format table`\n",
    "`I` | unsigned int | integer | 9\n",
    "`4H` | unsigned short[4] | integer[4] | 10-13\n",
    "`4B` | unsigned char[4] | integer[4] | 14-17\n",
    "`4x` | pad byte | no value | None | None\n",
    "`2016s` | char[2016] | bytes | 18 | the image data\n",
    "`4x` | pad byte | no value | None | None\n",
    "\n",
    "- For more information about `unpack` visit [here](https://docs.python.org/3.7/library/struct.html#format-characters)."
   ]
  },
  {
   "cell_type": "code",
   "execution_count": 2,
   "metadata": {},
   "outputs": [
    {
     "data": {
      "image/png": "[encoded data removed]",
      "text/plain": [
       "<Figure size 432x288 with 2 Axes>"
      ]
     },
     "metadata": {
      "needs_background": "light"
     },
     "output_type": "display_data"
    }
   ],
   "source": [
    "filename = 'ETL1/ETL1C_08'\n",
    "with open(filename, 'rb') as f:\n",
    "    skip = 23\n",
    "    f.seek(skip * 2052)\n",
    "    s = f.read(2052)\n",
    "    r = struct.unpack('>H2sH6BI4H4B4x2016s4x', s) # r is a tuple with the data as shown in the above table\n",
    "    iF = Image.frombytes('F', (64, 63), r[18], 'bit', 4) # use pillow to decode image\n",
    "    img = np.array(iF, dtype=np.float) # convert to numpy array\n",
    "    plt.imshow(img)\n",
    "    plt.colorbar()\n",
    "    plt.show()"
   ]
  },
  {
   "cell_type": "code",
   "execution_count": 3,
   "metadata": {},
   "outputs": [],
   "source": [
    "def unpack_datasets(path, unpack_path):\n",
    "    f = open(path, 'rb')\n",
    "    while True:\n",
    "        s = f.read(2052)\n",
    "\n",
    "        if not len(s) == 2052:\n",
    "            print('Reach EOF, remain {} bytes unread'.format(len(s)))\n",
    "            break;\n",
    "        \n",
    "        record = struct.unpack('>H2sH6BI4H4B4x2016s4x', s)\n",
    "        \n",
    "        # record index at index 0\n",
    "        index = record[0]\n",
    "\n",
    "        # label at index 1\n",
    "        label = record[1].decode('ascii')\n",
    "\n",
    "        if ' ' in label:\n",
    "            label = label.replace(' ', '')\n",
    "        # image at index 18\n",
    "        iF = Image.frombytes('F', (64, 63), record[18], 'bit', 4)\n",
    "        np_img = (np.array(iF, dtype=np.float) / 15.0 * 255).astype(np.uint8)\n",
    "\n",
    "        cat_path = os.path.join(unpack_path, label)\n",
    "\n",
    "        if not os.path.exists(cat_path):\n",
    "            os.makedirs(cat_path)\n",
    "\n",
    "        record_path = os.path.join(cat_path, '{}.png'.format(index))\n",
    "    \n",
    "        if not os.path.exists(record_path):\n",
    "            cv2.imwrite(record_path, np_img)\n",
    "    f.close()\n",
    "    \n",
    "def unpack_etl1_datasets(etl1_path, unpack_path):\n",
    "    # we only need the katakana characters\n",
    "    skip_etls = [\n",
    "        'ETL1C_01',\n",
    "        'ETL1C_02',\n",
    "        'ETL1C_03',\n",
    "        'ETL1C_04',\n",
    "        'ETL1C_05',\n",
    "        'ETL1C_06',\n",
    "    ]\n",
    "    if not os.path.exists(etl1_path):\n",
    "        print('Invalid path')\n",
    "    etl1_files = os.listdir(etl1_path)\n",
    "    for etl in etl1_files:\n",
    "        if not re.search('ETL1C_\\d\\d', etl) == None:\n",
    "            if etl in skip_etls:\n",
    "                continue\n",
    "            etl_path = os.path.join(etl1_path, etl)\n",
    "            unpack_datasets(etl_path, unpack_path)"
   ]
  },
  {
   "cell_type": "code",
   "execution_count": 4,
   "metadata": {
    "scrolled": false
   },
   "outputs": [
    {
     "name": "stdout",
     "output_type": "stream",
     "text": [
      "Reach EOF, remain 0 bytes unread\n",
      "Reach EOF, remain 0 bytes unread\n",
      "Reach EOF, remain 0 bytes unread\n",
      "Reach EOF, remain 0 bytes unread\n",
      "Reach EOF, remain 0 bytes unread\n",
      "Reach EOF, remain 0 bytes unread\n",
      "Reach EOF, remain 0 bytes unread\n"
     ]
    }
   ],
   "source": [
    "unpack_etl1_datasets('./ETL1/', 'etlcb_01_dataset')"
   ]
  }
 ],
 "metadata": {
  "kernelspec": {
   "display_name": "Python 3",
   "language": "python",
   "name": "python3"
  },
  "language_info": {
   "codemirror_mode": {
    "name": "ipython",
    "version": 3
   },
   "file_extension": ".py",
   "mimetype": "text/x-python",
   "name": "python",
   "nbconvert_exporter": "python",
   "pygments_lexer": "ipython3",
   "version": "3.7.1"
  }
 },
 "nbformat": 4,
 "nbformat_minor": 2
}
